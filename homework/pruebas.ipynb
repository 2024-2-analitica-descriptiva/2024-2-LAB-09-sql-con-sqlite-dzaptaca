{
 "cells": [
  {
   "cell_type": "code",
   "execution_count": 40,
   "metadata": {},
   "outputs": [
    {
     "name": "stdout",
     "output_type": "stream",
     "text": [
      "{\"strftime('%Y', c23)\": {0: '2016', 1: '2017', 2: '2018', 3: '2019'}, 'avg(c21)': {0: 564.4764285714285, 1: 515.1563636363636, 2: 557.5593749999999, 3: 550.9985714285714}}\n"
     ]
    }
   ],
   "source": [
    "import sqlite3\n",
    "\n",
    "import pandas as pd\n",
    "def load_data():\n",
    "    \"\"\"Load data.\"\"\"\n",
    "    conn = sqlite3.connect(\":memory:\")\n",
    "    cur = conn.cursor()\n",
    "\n",
    "    with open(\"../tests/create_tables.sql\", encoding=\"utf-8\") as file:\n",
    "        cur.executescript(file.read())\n",
    "\n",
    "    return conn, cur\n",
    "def test_08():\n",
    "    \"\"\"Test 08.\"\"\"\n",
    "    conn, _ = load_data()\n",
    "    with open(\"../homework/pregunta_08.sql\", encoding=\"utf-8\") as file:\n",
    "        query = file.read()\n",
    "    print(pd.read_sql_query(query, conn).to_dict())\n",
    "test_08()"
   ]
  },
  {
   "cell_type": "code",
   "execution_count": 43,
   "metadata": {},
   "outputs": [
    {
     "name": "stdout",
     "output_type": "stream",
     "text": [
      "{'MAX(c12)': {0: 938.16, 1: 999.72, 2: 822.81, 3: 756.37, 4: 832.44}, 'MIN(c12)': {0: 135.8, 1: 283.4, 2: 267.42, 3: 317.77, 4: 118.77}}\n"
     ]
    }
   ],
   "source": [
    "def test_12():\n",
    "    \"\"\"Test 12.\"\"\"\n",
    "    conn, _ = load_data()\n",
    "    with open(\"../homework/pregunta_12.sql\", encoding=\"utf-8\") as file:\n",
    "        query = file.read()\n",
    "    print(pd.read_sql_query(query, conn).to_dict())\n",
    "test_12()"
   ]
  },
  {
   "cell_type": "code",
   "execution_count": null,
   "metadata": {},
   "outputs": [],
   "source": [
    "    assert pd.read_sql_query(query, conn).to_dict() == {\n",
    "        \"K0\": {0: \"A\", 1: \"B\", 2: \"C\", 3: \"D\", 4: \"E\"},\n",
    "        \"MAX(c12)\": {0: 938.16, 1: 999.72, 2: 822.81, 3: 756.37, 4: 832.44},\n",
    "        \"MIN(c12)\": {0: 135.8, 1: 283.4, 2: 267.42, 3: 317.77, 4: 118.77},\n",
    "    }"
   ]
  },
  {
   "cell_type": "code",
   "execution_count": 46,
   "metadata": {},
   "outputs": [
    {
     "name": "stdout",
     "output_type": "stream",
     "text": [
      "{'K0': {0: 'A', 1: 'B', 2: 'C', 3: 'D', 4: 'E'}, 'avg(c12)': {0: 476.155, 1: 536.5233333333333, 2: 490.8299999999999, 3: 709.53, 4: 474.82500000000005}}\n"
     ]
    }
   ],
   "source": [
    "def test_13():\n",
    "    \"\"\"Test 13.\"\"\"\n",
    "    conn, _ = load_data()\n",
    "    with open(\"../homework/pregunta_13.sql\", encoding=\"utf-8\") as file:\n",
    "        query = file.read()\n",
    "    result = pd.read_sql_query(query, conn).to_dict()\n",
    "    print(result)\n",
    "test_13()"
   ]
  },
  {
   "cell_type": "code",
   "execution_count": 55,
   "metadata": {},
   "outputs": [
    {
     "name": "stdout",
     "output_type": "stream",
     "text": [
      "{'K0': {0: 'A', 1: 'B', 2: 'C', 3: 'D', 4: 'E'}, 'avg(c21)': {0: 593.5, 1: 575.47, 2: 530.75, 3: 655.61, 4: 555.32}}\n"
     ]
    }
   ],
   "source": [
    "def test_14():\n",
    "    \"\"\"Test 14.\"\"\"\n",
    "    conn, _ = load_data()\n",
    "    with open(\"../homework/pregunta_14.sql\", encoding=\"utf-8\") as file:\n",
    "        query = file.read()\n",
    "    result = pd.read_sql_query(query, conn).to_dict()\n",
    "    print(result)\n",
    "test_14()"
   ]
  }
 ],
 "metadata": {
  "kernelspec": {
   "display_name": ".venv",
   "language": "python",
   "name": "python3"
  },
  "language_info": {
   "codemirror_mode": {
    "name": "ipython",
    "version": 3
   },
   "file_extension": ".py",
   "mimetype": "text/x-python",
   "name": "python",
   "nbconvert_exporter": "python",
   "pygments_lexer": "ipython3",
   "version": "3.10.9"
  }
 },
 "nbformat": 4,
 "nbformat_minor": 2
}
