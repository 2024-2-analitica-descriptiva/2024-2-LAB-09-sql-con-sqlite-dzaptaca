{
 "cells": [
  {
   "cell_type": "code",
   "execution_count": 19,
   "metadata": {},
   "outputs": [
    {
     "name": "stdout",
     "output_type": "stream",
     "text": [
      "{\"strftime('%Y', c23)\": {0: 2016, 1: 2017, 2: 2018, 3: 2019}, 'avg(c21)': {0: 564.4764285714285, 1: 515.1563636363636, 2: 557.5593749999999, 3: 550.9985714285713}}\n"
     ]
    }
   ],
   "source": [
    "import sqlite3\n",
    "\n",
    "import pandas as pd\n",
    "def load_data():\n",
    "    \"\"\"Load data.\"\"\"\n",
    "    conn = sqlite3.connect(\":memory:\")\n",
    "    cur = conn.cursor()\n",
    "\n",
    "    with open(\"../tests/create_tables.sql\", encoding=\"utf-8\") as file:\n",
    "        cur.executescript(file.read())\n",
    "\n",
    "    return conn, cur\n",
    "def test_08():\n",
    "    \"\"\"Test 08.\"\"\"\n",
    "    conn, _ = load_data()\n",
    "    with open(\"../homework/pregunta_08.sql\", encoding=\"utf-8\") as file:\n",
    "        query = file.read()\n",
    "    print(pd.read_sql_query(query, conn).to_dict())\n",
    "test_08()"
   ]
  },
  {
   "cell_type": "code",
   "execution_count": 20,
   "metadata": {},
   "outputs": [
    {
     "ename": "NameError",
     "evalue": "name 'query' is not defined",
     "output_type": "error",
     "traceback": [
      "\u001b[1;31m---------------------------------------------------------------------------\u001b[0m",
      "\u001b[1;31mNameError\u001b[0m                                 Traceback (most recent call last)",
      "Cell \u001b[1;32mIn[20], line 1\u001b[0m\n\u001b[1;32m----> 1\u001b[0m \u001b[38;5;28;01massert\u001b[39;00m pd\u001b[38;5;241m.\u001b[39mread_sql_query(\u001b[43mquery\u001b[49m, conn)\u001b[38;5;241m.\u001b[39mto_dict() \u001b[38;5;241m==\u001b[39m {\n\u001b[0;32m      2\u001b[0m     \u001b[38;5;124m\"\u001b[39m\u001b[38;5;124mstrftime(\u001b[39m\u001b[38;5;124m'\u001b[39m\u001b[38;5;124m%\u001b[39m\u001b[38;5;124mY\u001b[39m\u001b[38;5;124m'\u001b[39m\u001b[38;5;124m, c23)\u001b[39m\u001b[38;5;124m\"\u001b[39m: {\u001b[38;5;241m0\u001b[39m: \u001b[38;5;124m\"\u001b[39m\u001b[38;5;124m2016\u001b[39m\u001b[38;5;124m\"\u001b[39m, \u001b[38;5;241m1\u001b[39m: \u001b[38;5;124m\"\u001b[39m\u001b[38;5;124m2017\u001b[39m\u001b[38;5;124m\"\u001b[39m, \u001b[38;5;241m2\u001b[39m: \u001b[38;5;124m\"\u001b[39m\u001b[38;5;124m2018\u001b[39m\u001b[38;5;124m\"\u001b[39m, \u001b[38;5;241m3\u001b[39m: \u001b[38;5;124m\"\u001b[39m\u001b[38;5;124m2019\u001b[39m\u001b[38;5;124m\"\u001b[39m},\n\u001b[0;32m      3\u001b[0m     \u001b[38;5;124m\"\u001b[39m\u001b[38;5;124mavg(c21)\u001b[39m\u001b[38;5;124m\"\u001b[39m: {\n\u001b[0;32m      4\u001b[0m         \u001b[38;5;241m0\u001b[39m: \u001b[38;5;241m564.4764285714285\u001b[39m,\n\u001b[0;32m      5\u001b[0m         \u001b[38;5;241m1\u001b[39m: \u001b[38;5;241m515.1563636363636\u001b[39m,\n\u001b[0;32m      6\u001b[0m         \u001b[38;5;241m2\u001b[39m: \u001b[38;5;241m557.5593749999999\u001b[39m,\n\u001b[0;32m      7\u001b[0m         \u001b[38;5;241m3\u001b[39m: \u001b[38;5;241m550.9985714285714\u001b[39m,\n\u001b[0;32m      8\u001b[0m     },\n\u001b[0;32m      9\u001b[0m }\n",
      "\u001b[1;31mNameError\u001b[0m: name 'query' is not defined"
     ]
    }
   ],
   "source": [
    "assert pd.read_sql_query(query, conn).to_dict() == {\n",
    "        \"strftime('%Y', c23)\": {0: \"2016\", 1: \"2017\", 2: \"2018\", 3: \"2019\"},\n",
    "        \"avg(c21)\": {\n",
    "            0: 564.4764285714285,\n",
    "            1: 515.1563636363636,\n",
    "            2: 557.5593749999999,\n",
    "            3: 550.9985714285714,\n",
    "        },\n",
    "    }"
   ]
  }
 ],
 "metadata": {
  "kernelspec": {
   "display_name": ".venv",
   "language": "python",
   "name": "python3"
  },
  "language_info": {
   "codemirror_mode": {
    "name": "ipython",
    "version": 3
   },
   "file_extension": ".py",
   "mimetype": "text/x-python",
   "name": "python",
   "nbconvert_exporter": "python",
   "pygments_lexer": "ipython3",
   "version": "3.10.9"
  }
 },
 "nbformat": 4,
 "nbformat_minor": 2
}
